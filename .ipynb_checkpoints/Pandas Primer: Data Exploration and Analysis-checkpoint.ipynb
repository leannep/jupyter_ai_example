{
 "cells": [
  {
   "cell_type": "markdown",
   "id": "44a98c65",
   "metadata": {},
   "source": [
    "# Pandas Primer: Data Exploration and Analysis"
   ]
  },
  {
   "cell_type": "markdown",
   "id": "426dce75",
   "metadata": {},
   "source": [
    "## Introduction"
   ]
  },
  {
   "cell_type": "markdown",
   "id": "7d6e5535",
   "metadata": {},
   "source": [
    "This notebook was created by [Jupyter AI](https://github.com/jupyterlab/jupyter-ai) with the following prompt:\n",
    "\n",
    "> /generate a demo of how to use pandas"
   ]
  },
  {
   "cell_type": "markdown",
   "id": "4ca56947",
   "metadata": {},
   "source": [
    "This Jupyter notebook will demonstrate how to use the Pandas library, a powerful open-source data manipulation and analysis library for Python. It will cover importing the Pandas library, loading data into a DataFrame, exploring and cleaning the data, performing various data manipulation and analysis tasks, and visualizing the data using Pandas in combination with other data visualization libraries."
   ]
  },
  {
   "cell_type": "markdown",
   "id": "a2f96f0d",
   "metadata": {},
   "source": [
    "## Loading Data into a DataFrame"
   ]
  },
  {
   "cell_type": "code",
   "execution_count": null,
   "id": "d97b5939",
   "metadata": {},
   "outputs": [],
   "source": [
    "# Loading Data into a DataFrame"
   ]
  },
  {
   "cell_type": "code",
   "execution_count": null,
   "id": "9a7e4459",
   "metadata": {},
   "outputs": [],
   "source": [
    "# Import the necessary libraries\n",
    "import pandas as pd\n",
    "import sqlite3"
   ]
  },
  {
   "cell_type": "code",
   "execution_count": null,
   "id": "09a20c01",
   "metadata": {},
   "outputs": [],
   "source": [
    "# Load data from a CSV file\n",
    "print(\"Loading data from a CSV file:\")\n",
    "df_csv = pd.read_csv('data.csv')\n",
    "print(df_csv.head())"
   ]
  },
  {
   "cell_type": "code",
   "execution_count": null,
   "id": "0efcd8bc",
   "metadata": {},
   "outputs": [],
   "source": [
    "# Load data from an Excel spreadsheet\n",
    "print(\"\\nLoading data from an Excel spreadsheet:\")\n",
    "df_excel = pd.read_excel('data.xlsx', sheet_name='Sheet1')\n",
    "print(df_excel.head())"
   ]
  },
  {
   "cell_type": "code",
   "execution_count": null,
   "id": "1ed49110",
   "metadata": {},
   "outputs": [],
   "source": [
    "# Load data from a SQL database\n",
    "print(\"\\nLoading data from a SQL database:\")\n",
    "conn = sqlite3.connect('database.db')\n",
    "df_sql = pd.read_sql_query(\"SELECT * FROM table_name\", conn)\n",
    "print(df_sql.head())\n",
    "conn.close()  # Close the database connection"
   ]
  },
  {
   "cell_type": "code",
   "execution_count": null,
   "id": "deb7deb8",
   "metadata": {},
   "outputs": [],
   "source": [
    "# Print the types of the DataFrames\n",
    "print(\"\\nData types of the DataFrames:\")\n",
    "print(df_csv.dtypes)\n",
    "print(df_excel.dtypes)\n",
    "print(df_sql.dtypes)"
   ]
  },
  {
   "cell_type": "markdown",
   "id": "efb67eb5",
   "metadata": {},
   "source": [
    "## Exploring and Cleaning Data"
   ]
  },
  {
   "cell_type": "code",
   "execution_count": null,
   "id": "273cedd9",
   "metadata": {},
   "outputs": [],
   "source": [
    "Here's the improved version of the code:"
   ]
  },
  {
   "cell_type": "code",
   "execution_count": null,
   "id": "25c40a15",
   "metadata": {},
   "outputs": [],
   "source": [
    "# Import the pandas library\n",
    "import pandas as pd"
   ]
  },
  {
   "cell_type": "code",
   "execution_count": null,
   "id": "924f6501",
   "metadata": {},
   "outputs": [],
   "source": [
    "# Load the dataset into a Pandas DataFrame\n",
    "df = pd.read_csv('dataset.csv')"
   ]
  },
  {
   "cell_type": "code",
   "execution_count": null,
   "id": "72fbed9f",
   "metadata": {},
   "outputs": [],
   "source": [
    "# Explore the structure of the DataFrame\n",
    "print(df.head())\n",
    "print(df.info())\n",
    "print(df.describe())"
   ]
  },
  {
   "cell_type": "code",
   "execution_count": null,
   "id": "464a6cf1",
   "metadata": {},
   "outputs": [],
   "source": [
    "# Check for missing values\n",
    "missing_values = df.isnull().sum()\n",
    "print(\"Missing values:\\n\", missing_values)"
   ]
  },
  {
   "cell_type": "code",
   "execution_count": null,
   "id": "b40b211d",
   "metadata": {},
   "outputs": [],
   "source": [
    "# Handle missing values\n",
    "df = df.fillna(0)\n",
    "df = df.dropna(subset=['column_name'])"
   ]
  },
  {
   "cell_type": "code",
   "execution_count": null,
   "id": "cde4724f",
   "metadata": {},
   "outputs": [],
   "source": [
    "# Perform basic data cleaning\n",
    "df['column_name'] = df['column_name'].str.strip().str.lower().replace('old_value', 'new_value')"
   ]
  },
  {
   "cell_type": "code",
   "execution_count": null,
   "id": "95d6e4b9",
   "metadata": {},
   "outputs": [],
   "source": [
    "# Inspect the cleaned data\n",
    "print(df.head())\n",
    "print(df.info())\n",
    "print(df.describe())"
   ]
  },
  {
   "cell_type": "markdown",
   "id": "2ee2b57d",
   "metadata": {},
   "source": [
    "## Data Manipulation and Analysis"
   ]
  },
  {
   "cell_type": "code",
   "execution_count": null,
   "id": "023de91d",
   "metadata": {},
   "outputs": [],
   "source": [
    "import pandas as pd"
   ]
  },
  {
   "cell_type": "code",
   "execution_count": null,
   "id": "1d5d6049",
   "metadata": {},
   "outputs": [],
   "source": [
    "df = pd.read_csv('dataset.csv')"
   ]
  },
  {
   "cell_type": "code",
   "execution_count": null,
   "id": "33e60ff7",
   "metadata": {},
   "outputs": [],
   "source": [
    "print(\"First few rows of the DataFrame:\")\n",
    "print(df.head())"
   ]
  },
  {
   "cell_type": "code",
   "execution_count": null,
   "id": "ee45ad19",
   "metadata": {},
   "outputs": [],
   "source": [
    "print(\"\\nDescriptive statistics of the DataFrame:\")\n",
    "print(df.describe())"
   ]
  },
  {
   "cell_type": "code",
   "execution_count": null,
   "id": "1a563afc",
   "metadata": {},
   "outputs": [],
   "source": [
    "print(\"\\nFiltering the data:\")\n",
    "filtered_df = df[df['column_name'] > 100]\n",
    "print(filtered_df)"
   ]
  },
  {
   "cell_type": "code",
   "execution_count": null,
   "id": "57f75d33",
   "metadata": {},
   "outputs": [],
   "source": [
    "print(\"\\nSorting the data:\")\n",
    "sorted_df = df.sort_values(['column1', 'column2'], ascending=[False, True])\n",
    "print(sorted_df)"
   ]
  },
  {
   "cell_type": "code",
   "execution_count": null,
   "id": "a231041a",
   "metadata": {},
   "outputs": [],
   "source": [
    "print(\"\\nGrouping and aggregating the data:\")\n",
    "grouped_df = df.groupby('column_name')['numeric_column'].mean()\n",
    "print(grouped_df)"
   ]
  },
  {
   "cell_type": "code",
   "execution_count": null,
   "id": "64e1bb90",
   "metadata": {},
   "outputs": [],
   "source": [
    "print(\"\\nPerforming calculations on the data:\")\n",
    "df['new_column'] = df['column1'] + df['column2']\n",
    "print(df)"
   ]
  },
  {
   "cell_type": "markdown",
   "id": "cbf1b6db",
   "metadata": {},
   "source": [
    "## Visualizing Data with Pandas"
   ]
  },
  {
   "cell_type": "code",
   "execution_count": null,
   "id": "59479401",
   "metadata": {},
   "outputs": [],
   "source": [
    "# Import necessary libraries\n",
    "import pandas as pd\n",
    "import matplotlib.pyplot as plt\n",
    "import seaborn as sns"
   ]
  },
  {
   "cell_type": "code",
   "execution_count": null,
   "id": "7c7868f6",
   "metadata": {},
   "outputs": [],
   "source": [
    "# Load sample dataset\n",
    "df = pd.read_csv('sample_data.csv')"
   ]
  },
  {
   "cell_type": "code",
   "execution_count": null,
   "id": "49f14abd",
   "metadata": {},
   "outputs": [],
   "source": [
    "# Explore the dataset\n",
    "print(df.head(5))\n",
    "print(df.info())"
   ]
  },
  {
   "cell_type": "code",
   "execution_count": null,
   "id": "257121d1",
   "metadata": {},
   "outputs": [],
   "source": [
    "# Create a histogram to visualize the distribution of a numeric column\n",
    "fig, ax = plt.subplots(figsize=(8, 6))\n",
    "df['numeric_column'].hist(ax=ax)\n",
    "ax.set_title('Distribution of Numeric Column')\n",
    "ax.set_xlabel('Value')\n",
    "ax.set_ylabel('Frequency')\n",
    "plt.show()"
   ]
  },
  {
   "cell_type": "code",
   "execution_count": null,
   "id": "e41786e3",
   "metadata": {},
   "outputs": [],
   "source": [
    "# Create a scatter plot to visualize the relationship between two numeric columns\n",
    "fig, ax = plt.subplots(figsize=(8, 6))\n",
    "ax.scatter(df['numeric_column_1'], df['numeric_column_2'])\n",
    "ax.set_title('Scatter Plot of Two Numeric Columns')\n",
    "ax.set_xlabel('Column 1')\n",
    "ax.set_ylabel('Column 2')\n",
    "plt.show()"
   ]
  },
  {
   "cell_type": "code",
   "execution_count": null,
   "id": "c4dbb3a4",
   "metadata": {},
   "outputs": [],
   "source": [
    "# Create a bar plot to visualize the count of a categorical column\n",
    "fig, ax = plt.subplots(figsize=(8, 6))\n",
    "df['categorical_column'].value_counts().plot(kind='bar', ax=ax)\n",
    "ax.set_title('Bar Plot of Categorical Column')\n",
    "ax.set_xlabel('Category')\n",
    "ax.set_ylabel('Count')\n",
    "plt.show()"
   ]
  },
  {
   "cell_type": "code",
   "execution_count": null,
   "id": "ed4faa08",
   "metadata": {},
   "outputs": [],
   "source": [
    "# Create a line plot to visualize the trend of a numeric column over time\n",
    "fig, ax = plt.subplots(figsize=(8, 6))\n",
    "df.plot(x='time_column', y='numeric_column', kind='line', ax=ax)\n",
    "ax.set_title('Line Plot of Numeric Column over Time')\n",
    "ax.set_xlabel('Time')\n",
    "ax.set_ylabel('Value')\n",
    "plt.show()"
   ]
  },
  {
   "cell_type": "code",
   "execution_count": null,
   "id": "92ce9d28",
   "metadata": {},
   "outputs": [],
   "source": [
    "# Create a heatmap to visualize the correlation between numeric columns\n",
    "fig, ax = plt.subplots(figsize=(8, 6))\n",
    "corr_matrix = df.corr()\n",
    "sns.heatmap(corr_matrix, annot=True, cmap='YlOrRd', ax=ax)\n",
    "ax.set_title('Heatmap of Correlation Matrix')\n",
    "plt.show()"
   ]
  }
 ],
 "metadata": {},
 "nbformat": 4,
 "nbformat_minor": 5
}
